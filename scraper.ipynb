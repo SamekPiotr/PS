{
 "cells": [
  {
   "attachments": {},
   "cell_type": "markdown",
   "metadata": {},
   "source": [
    "# Ceneo Scraper "
   ]
  },
  {
   "attachments": {},
   "cell_type": "markdown",
   "metadata": {},
   "source": [
    "# Imports"
   ]
  },
  {
   "cell_type": "code",
   "execution_count": 18,
   "metadata": {},
   "outputs": [],
   "source": [
    "import requests\n",
    "from bs4 import BeautifulSoup"
   ]
  },
  {
   "attachments": {},
   "cell_type": "markdown",
   "metadata": {},
   "source": [
    "# Send request to Ceneo.pl service"
   ]
  },
  {
   "cell_type": "code",
   "execution_count": 19,
   "metadata": {},
   "outputs": [
    {
     "data": {
      "text/plain": [
       "200"
      ]
     },
     "execution_count": 19,
     "metadata": {},
     "output_type": "execute_result"
    }
   ],
   "source": [
    "product_id = \"108290707\"\n",
    "url = f\"https://www.ceneo.pl/{product_id}#tab=reviews\"\n",
    "response = requests.get(url)\n",
    "response.status_code"
   ]
  },
  {
   "attachments": {},
   "cell_type": "markdown",
   "metadata": {},
   "source": [
    "## Convert plain text HTML code into DOM structure"
   ]
  },
  {
   "cell_type": "code",
   "execution_count": 20,
   "metadata": {},
   "outputs": [],
   "source": [
    "page_dom = BeautifulSoup(response.text, \"html.parser\")\n",
    "opinions = page_dom.select(\"div.js_product-review\")\n",
    "opinion = page_dom.select_one(\"div.js_product-review\")"
   ]
  },
  {
   "attachments": {},
   "cell_type": "markdown",
   "metadata": {},
   "source": [
    "## Extract components for single opinion"
   ]
  },
  {
   "attachments": {},
   "cell_type": "markdown",
   "metadata": {},
   "source": [
    "|Component|Selector|Variable|\n",
    "|---------|--------|--------|\n",
    "|opinion ID|[\"data-entry-id\"]|opinion_id|\n",
    "|opinion’s author|span.user-post__author-name|author|\n",
    "|author’s recommendation|span.user-post__author-recomendation > em|recommendation|\n",
    "|score expressed in number of stars|span.user-post__score-count|score|\n",
    "|opinion’s content|div.user-post__text|content|\n",
    "|list of product advantages|div.review-feature__title--positives ~ div.review-feature__item|pros|\n",
    "|list of product disadvantages|div.review-feature__title--negatives ~ div.review-feature__item|cons|\n",
    "|how many users think that opinion was helpful|button.vote-yes > span|helpful|\n",
    "|how many users think that opinion was unhelpful|button.vote-no > span|unhelpful|\n",
    "|publishing date|span.user-post__published > time:nth-child(1).[\"datetime\"]|post_date|\n",
    "|purchase date|span.user-post__published > time:nth-child(2).[\"datetime\"]|purchase_date|"
   ]
  },
  {
   "cell_type": "code",
   "execution_count": 24,
   "metadata": {},
   "outputs": [],
   "source": [
    "def extract_content(ancestor, selector, attribute = None, return_list = False):\n",
    "    if return_list:\n",
    "        return [tag.text.strip() for tag in ancestor.select(selector)]\n",
    "    if attribute:\n",
    "        try:\n",
    "            return ancestor.select_one(selector)[attribute].strip()\n",
    "        except TypeError:\n",
    "            return None\n",
    "    return ancestor.select_one(selector).text.strip()"
   ]
  },
  {
   "cell_type": "code",
   "execution_count": 25,
   "metadata": {},
   "outputs": [
    {
     "ename": "ValueError",
     "evalue": "not enough values to unpack (expected 2, got 1)",
     "output_type": "error",
     "traceback": [
      "\u001b[1;31m---------------------------------------------------------------------------\u001b[0m",
      "\u001b[1;31mValueError\u001b[0m                                Traceback (most recent call last)",
      "Cell \u001b[1;32mIn[25], line 10\u001b[0m\n\u001b[0;32m      8\u001b[0m helpful \u001b[39m=\u001b[39m extract_content(opinion, \u001b[39m\"\u001b[39m\u001b[39mbutton.vote-yes > span\u001b[39m\u001b[39m\"\u001b[39m)\n\u001b[0;32m      9\u001b[0m unhelpful \u001b[39m=\u001b[39m extract_content(opinion,\u001b[39m\"\u001b[39m\u001b[39mbutton.vote-no > span\u001b[39m\u001b[39m\"\u001b[39m)\n\u001b[1;32m---> 10\u001b[0m post_date\u001b[39m=\u001b[39mopinion\u001b[39m.\u001b[39;49mselect_one(\u001b[39m\"\u001b[39;49m\u001b[39mspan.user-post__published > time:nth-child(1)\u001b[39;49m\u001b[39m\"\u001b[39;49m,\u001b[39m\"\u001b[39;49m\u001b[39mdatetime\u001b[39;49m\u001b[39m\"\u001b[39;49m)\u001b[39m.\u001b[39mstrip()\n\u001b[0;32m     11\u001b[0m purchase_date\u001b[39m=\u001b[39mopinion\u001b[39m.\u001b[39mselect_one(\u001b[39m\"\u001b[39m\u001b[39mspan.user-post__published > time:nth-child(2)\u001b[39m\u001b[39m\"\u001b[39m,\u001b[39m\"\u001b[39m\u001b[39mdatetime\u001b[39m\u001b[39m\"\u001b[39m)\u001b[39m.\u001b[39mstrip()\n",
      "File \u001b[1;32mc:\\Users\\s-013-15\\Desktop\\PS\\.venv\\Lib\\site-packages\\bs4\\element.py:2094\u001b[0m, in \u001b[0;36mTag.select_one\u001b[1;34m(self, selector, namespaces, **kwargs)\u001b[0m\n\u001b[0;32m   2078\u001b[0m \u001b[39mdef\u001b[39;00m \u001b[39mselect_one\u001b[39m(\u001b[39mself\u001b[39m, selector, namespaces\u001b[39m=\u001b[39m\u001b[39mNone\u001b[39;00m, \u001b[39m*\u001b[39m\u001b[39m*\u001b[39mkwargs):\n\u001b[0;32m   2079\u001b[0m \u001b[39m    \u001b[39m\u001b[39m\"\"\"Perform a CSS selection operation on the current element.\u001b[39;00m\n\u001b[0;32m   2080\u001b[0m \n\u001b[0;32m   2081\u001b[0m \u001b[39m    :param selector: A CSS selector.\u001b[39;00m\n\u001b[1;32m   (...)\u001b[0m\n\u001b[0;32m   2092\u001b[0m \u001b[39m    :rtype: bs4.element.Tag\u001b[39;00m\n\u001b[0;32m   2093\u001b[0m \u001b[39m    \"\"\"\u001b[39;00m\n\u001b[1;32m-> 2094\u001b[0m     \u001b[39mreturn\u001b[39;00m \u001b[39mself\u001b[39;49m\u001b[39m.\u001b[39;49mcss\u001b[39m.\u001b[39;49mselect_one(selector, namespaces, \u001b[39m*\u001b[39;49m\u001b[39m*\u001b[39;49mkwargs)\n",
      "File \u001b[1;32mc:\\Users\\s-013-15\\Desktop\\PS\\.venv\\Lib\\site-packages\\bs4\\css.py:128\u001b[0m, in \u001b[0;36mCSS.select_one\u001b[1;34m(self, select, namespaces, flags, **kwargs)\u001b[0m\n\u001b[0;32m    103\u001b[0m \u001b[39mdef\u001b[39;00m \u001b[39mselect_one\u001b[39m(\u001b[39mself\u001b[39m, select, namespaces\u001b[39m=\u001b[39m\u001b[39mNone\u001b[39;00m, flags\u001b[39m=\u001b[39m\u001b[39m0\u001b[39m, \u001b[39m*\u001b[39m\u001b[39m*\u001b[39mkwargs):\n\u001b[0;32m    104\u001b[0m \u001b[39m    \u001b[39m\u001b[39m\"\"\"Perform a CSS selection operation on the current Tag and return the\u001b[39;00m\n\u001b[0;32m    105\u001b[0m \u001b[39m    first result.\u001b[39;00m\n\u001b[0;32m    106\u001b[0m \n\u001b[1;32m   (...)\u001b[0m\n\u001b[0;32m    126\u001b[0m \n\u001b[0;32m    127\u001b[0m \u001b[39m    \"\"\"\u001b[39;00m\n\u001b[1;32m--> 128\u001b[0m     \u001b[39mreturn\u001b[39;00m \u001b[39mself\u001b[39;49m\u001b[39m.\u001b[39;49mapi\u001b[39m.\u001b[39;49mselect_one(\n\u001b[0;32m    129\u001b[0m         select, \u001b[39mself\u001b[39;49m\u001b[39m.\u001b[39;49mtag, \u001b[39mself\u001b[39;49m\u001b[39m.\u001b[39;49m_ns(namespaces, select), flags, \u001b[39m*\u001b[39;49m\u001b[39m*\u001b[39;49mkwargs\n\u001b[0;32m    130\u001b[0m     )\n",
      "File \u001b[1;32mc:\\Users\\s-013-15\\Desktop\\PS\\.venv\\Lib\\site-packages\\soupsieve\\__init__.py:132\u001b[0m, in \u001b[0;36mselect_one\u001b[1;34m(select, tag, namespaces, flags, custom, **kwargs)\u001b[0m\n\u001b[0;32m    121\u001b[0m \u001b[39mdef\u001b[39;00m \u001b[39mselect_one\u001b[39m(\n\u001b[0;32m    122\u001b[0m     select: \u001b[39mstr\u001b[39m,\n\u001b[0;32m    123\u001b[0m     tag: bs4\u001b[39m.\u001b[39mTag,\n\u001b[1;32m   (...)\u001b[0m\n\u001b[0;32m    128\u001b[0m     \u001b[39m*\u001b[39m\u001b[39m*\u001b[39mkwargs: Any\n\u001b[0;32m    129\u001b[0m ) \u001b[39m-\u001b[39m\u001b[39m>\u001b[39m bs4\u001b[39m.\u001b[39mTag:\n\u001b[0;32m    130\u001b[0m \u001b[39m    \u001b[39m\u001b[39m\"\"\"Select a single tag.\"\"\"\u001b[39;00m\n\u001b[1;32m--> 132\u001b[0m     \u001b[39mreturn\u001b[39;00m \u001b[39mcompile\u001b[39;49m(select, namespaces, flags, \u001b[39m*\u001b[39;49m\u001b[39m*\u001b[39;49mkwargs)\u001b[39m.\u001b[39mselect_one(tag)\n",
      "File \u001b[1;32mc:\\Users\\s-013-15\\Desktop\\PS\\.venv\\Lib\\site-packages\\soupsieve\\__init__.py:67\u001b[0m, in \u001b[0;36mcompile\u001b[1;34m(pattern, namespaces, flags, custom, **kwargs)\u001b[0m\n\u001b[0;32m     62\u001b[0m         \u001b[39mraise\u001b[39;00m \u001b[39mValueError\u001b[39;00m(\u001b[39m\"\u001b[39m\u001b[39mCannot process \u001b[39m\u001b[39m'\u001b[39m\u001b[39mcustom\u001b[39m\u001b[39m'\u001b[39m\u001b[39m argument on a compiled selector list\u001b[39m\u001b[39m\"\u001b[39m)\n\u001b[0;32m     63\u001b[0m     \u001b[39mreturn\u001b[39;00m pattern\n\u001b[0;32m     65\u001b[0m \u001b[39mreturn\u001b[39;00m cp\u001b[39m.\u001b[39m_cached_css_compile(\n\u001b[0;32m     66\u001b[0m     pattern,\n\u001b[1;32m---> 67\u001b[0m     ct\u001b[39m.\u001b[39;49mNamespaces(namespaces) \u001b[39mif\u001b[39;00m namespaces \u001b[39mis\u001b[39;00m \u001b[39mnot\u001b[39;00m \u001b[39mNone\u001b[39;00m \u001b[39melse\u001b[39;00m namespaces,\n\u001b[0;32m     68\u001b[0m     ct\u001b[39m.\u001b[39mCustomSelectors(custom) \u001b[39mif\u001b[39;00m custom \u001b[39mis\u001b[39;00m \u001b[39mnot\u001b[39;00m \u001b[39mNone\u001b[39;00m \u001b[39melse\u001b[39;00m custom,\n\u001b[0;32m     69\u001b[0m     flags\n\u001b[0;32m     70\u001b[0m )\n",
      "File \u001b[1;32mc:\\Users\\s-013-15\\Desktop\\PS\\.venv\\Lib\\site-packages\\soupsieve\\css_types.py:153\u001b[0m, in \u001b[0;36mNamespaces.__init__\u001b[1;34m(self, arg)\u001b[0m\n\u001b[0;32m    150\u001b[0m \u001b[39mdef\u001b[39;00m \u001b[39m__init__\u001b[39m(\u001b[39mself\u001b[39m, arg: \u001b[39mdict\u001b[39m[\u001b[39mstr\u001b[39m, \u001b[39mstr\u001b[39m] \u001b[39m|\u001b[39m Iterable[\u001b[39mtuple\u001b[39m[\u001b[39mstr\u001b[39m, \u001b[39mstr\u001b[39m]]) \u001b[39m-\u001b[39m\u001b[39m>\u001b[39m \u001b[39mNone\u001b[39;00m:\n\u001b[0;32m    151\u001b[0m \u001b[39m    \u001b[39m\u001b[39m\"\"\"Initialize.\"\"\"\u001b[39;00m\n\u001b[1;32m--> 153\u001b[0m     \u001b[39msuper\u001b[39;49m()\u001b[39m.\u001b[39;49m\u001b[39m__init__\u001b[39;49m(arg)\n",
      "File \u001b[1;32mc:\\Users\\s-013-15\\Desktop\\PS\\.venv\\Lib\\site-packages\\soupsieve\\css_types.py:106\u001b[0m, in \u001b[0;36mImmutableDict.__init__\u001b[1;34m(self, arg)\u001b[0m\n\u001b[0;32m    100\u001b[0m \u001b[39mdef\u001b[39;00m \u001b[39m__init__\u001b[39m(\n\u001b[0;32m    101\u001b[0m     \u001b[39mself\u001b[39m,\n\u001b[0;32m    102\u001b[0m     arg: \u001b[39mdict\u001b[39m[Any, Any] \u001b[39m|\u001b[39m Iterable[\u001b[39mtuple\u001b[39m[Any, Any]]\n\u001b[0;32m    103\u001b[0m ) \u001b[39m-\u001b[39m\u001b[39m>\u001b[39m \u001b[39mNone\u001b[39;00m:\n\u001b[0;32m    104\u001b[0m \u001b[39m    \u001b[39m\u001b[39m\"\"\"Initialize.\"\"\"\u001b[39;00m\n\u001b[1;32m--> 106\u001b[0m     \u001b[39mself\u001b[39;49m\u001b[39m.\u001b[39;49m_validate(arg)\n\u001b[0;32m    107\u001b[0m     \u001b[39mself\u001b[39m\u001b[39m.\u001b[39m_d \u001b[39m=\u001b[39m \u001b[39mdict\u001b[39m(arg)\n\u001b[0;32m    108\u001b[0m     \u001b[39mself\u001b[39m\u001b[39m.\u001b[39m_hash \u001b[39m=\u001b[39m \u001b[39mhash\u001b[39m(\u001b[39mtuple\u001b[39m([(\u001b[39mtype\u001b[39m(x), x, \u001b[39mtype\u001b[39m(y), y) \u001b[39mfor\u001b[39;00m x, y \u001b[39min\u001b[39;00m \u001b[39msorted\u001b[39m(\u001b[39mself\u001b[39m\u001b[39m.\u001b[39m_d\u001b[39m.\u001b[39mitems())]))\n",
      "File \u001b[1;32mc:\\Users\\s-013-15\\Desktop\\PS\\.venv\\Lib\\site-packages\\soupsieve\\css_types.py:161\u001b[0m, in \u001b[0;36mNamespaces._validate\u001b[1;34m(self, arg)\u001b[0m\n\u001b[0;32m    159\u001b[0m     \u001b[39mif\u001b[39;00m \u001b[39mnot\u001b[39;00m \u001b[39mall\u001b[39m(\u001b[39misinstance\u001b[39m(v, \u001b[39mstr\u001b[39m) \u001b[39mfor\u001b[39;00m v \u001b[39min\u001b[39;00m arg\u001b[39m.\u001b[39mvalues()):\n\u001b[0;32m    160\u001b[0m         \u001b[39mraise\u001b[39;00m \u001b[39mTypeError\u001b[39;00m(\u001b[39mf\u001b[39m\u001b[39m'\u001b[39m\u001b[39m{\u001b[39;00m\u001b[39mself\u001b[39m\u001b[39m.\u001b[39m\u001b[39m__class__\u001b[39m\u001b[39m.\u001b[39m\u001b[39m__name__\u001b[39m\u001b[39m}\u001b[39;00m\u001b[39m values must be hashable\u001b[39m\u001b[39m'\u001b[39m)\n\u001b[1;32m--> 161\u001b[0m \u001b[39melif\u001b[39;00m \u001b[39mnot\u001b[39;00m \u001b[39mall\u001b[39m(\u001b[39misinstance\u001b[39m(k, \u001b[39mstr\u001b[39m) \u001b[39mand\u001b[39;00m \u001b[39misinstance\u001b[39m(v, \u001b[39mstr\u001b[39m) \u001b[39mfor\u001b[39;00m k, v \u001b[39min\u001b[39;00m arg):\n\u001b[0;32m    162\u001b[0m     \u001b[39mraise\u001b[39;00m \u001b[39mTypeError\u001b[39;00m(\u001b[39mf\u001b[39m\u001b[39m'\u001b[39m\u001b[39m{\u001b[39;00m\u001b[39mself\u001b[39m\u001b[39m.\u001b[39m\u001b[39m__class__\u001b[39m\u001b[39m.\u001b[39m\u001b[39m__name__\u001b[39m\u001b[39m}\u001b[39;00m\u001b[39m keys and values must be Unicode strings\u001b[39m\u001b[39m'\u001b[39m)\n",
      "File \u001b[1;32mc:\\Users\\s-013-15\\Desktop\\PS\\.venv\\Lib\\site-packages\\soupsieve\\css_types.py:161\u001b[0m, in \u001b[0;36m<genexpr>\u001b[1;34m(.0)\u001b[0m\n\u001b[0;32m    159\u001b[0m     \u001b[39mif\u001b[39;00m \u001b[39mnot\u001b[39;00m \u001b[39mall\u001b[39m(\u001b[39misinstance\u001b[39m(v, \u001b[39mstr\u001b[39m) \u001b[39mfor\u001b[39;00m v \u001b[39min\u001b[39;00m arg\u001b[39m.\u001b[39mvalues()):\n\u001b[0;32m    160\u001b[0m         \u001b[39mraise\u001b[39;00m \u001b[39mTypeError\u001b[39;00m(\u001b[39mf\u001b[39m\u001b[39m'\u001b[39m\u001b[39m{\u001b[39;00m\u001b[39mself\u001b[39m\u001b[39m.\u001b[39m\u001b[39m__class__\u001b[39m\u001b[39m.\u001b[39m\u001b[39m__name__\u001b[39m\u001b[39m}\u001b[39;00m\u001b[39m values must be hashable\u001b[39m\u001b[39m'\u001b[39m)\n\u001b[1;32m--> 161\u001b[0m \u001b[39melif\u001b[39;00m \u001b[39mnot\u001b[39;00m \u001b[39mall\u001b[39m(\u001b[39misinstance\u001b[39m(k, \u001b[39mstr\u001b[39m) \u001b[39mand\u001b[39;00m \u001b[39misinstance\u001b[39m(v, \u001b[39mstr\u001b[39m) \u001b[39mfor\u001b[39;00m k, v \u001b[39min\u001b[39;00m arg):\n\u001b[0;32m    162\u001b[0m     \u001b[39mraise\u001b[39;00m \u001b[39mTypeError\u001b[39;00m(\u001b[39mf\u001b[39m\u001b[39m'\u001b[39m\u001b[39m{\u001b[39;00m\u001b[39mself\u001b[39m\u001b[39m.\u001b[39m\u001b[39m__class__\u001b[39m\u001b[39m.\u001b[39m\u001b[39m__name__\u001b[39m\u001b[39m}\u001b[39;00m\u001b[39m keys and values must be Unicode strings\u001b[39m\u001b[39m'\u001b[39m)\n",
      "\u001b[1;31mValueError\u001b[0m: not enough values to unpack (expected 2, got 1)"
     ]
    }
   ],
   "source": [
    "opinion_id = opinion[\"data-entry-id\"]\n",
    "author = extract_content(opinion, \"span.user-post__author-name\")\n",
    "recommendation = extract_content(opinion, \"span.user-post__author-recomendation > em\")\n",
    "score = extract_content(opinion,\"span.user-post__score-count\")\n",
    "content = extract_content(opinion, \"div.user-post__text\")\n",
    "pros = extract_content(opinion, \"div.review-feature__title--positives ~ div.review-feature__item\", None, True)\n",
    "cons = extract_content(opinion, \"div.review-feature__title--negatives ~ div.review-feature__item\", None, True)\n",
    "helpful = extract_content(opinion, \"button.vote-yes > span\")\n",
    "unhelpful = extract_content(opinion,\"button.vote-no > span\")\n",
    "post_date = extract_content(opinion, \"span.user-post__published > time:nth-child(1)\",\"datetime\")\n",
    "purchase_date = extract_content(opinion, \"span.user-post__published > time:nth-child(2)\",\"datetime\")\n"
   ]
  }
 ],
 "metadata": {
  "kernelspec": {
   "display_name": ".venv",
   "language": "python",
   "name": "python3"
  },
  "language_info": {
   "codemirror_mode": {
    "name": "ipython",
    "version": 3
   },
   "file_extension": ".py",
   "mimetype": "text/x-python",
   "name": "python",
   "nbconvert_exporter": "python",
   "pygments_lexer": "ipython3",
   "version": "3.11.4"
  },
  "orig_nbformat": 4
 },
 "nbformat": 4,
 "nbformat_minor": 2
}
