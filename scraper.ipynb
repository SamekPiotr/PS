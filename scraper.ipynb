{
 "cells": [
  {
   "attachments": {},
   "cell_type": "markdown",
   "metadata": {},
   "source": [
    "# Ceneo Scraper"
   ]
  },
  {
   "attachments": {},
   "cell_type": "markdown",
   "metadata": {},
   "source": [
    "## Extract  components for single opinion\n",
    "\n",
    "|Component|Selector|Variable|\n",
    "|---------|--------|--------|\n",
    "|opinion ID |  [\"data-entry-id\"]  |opinion_id |\n",
    "|opinion’s author |  span.user-post__author-name | author|\n",
    "|author’s recommendation | span.user-post__author-recomendation > em |recommendations|\n",
    "|score expressed in number of stars | span.user-post__score-count |score|\n",
    "|opinion’s content | div.user-post__text |content|\n",
    "|list of product advantages | div.review-feature__title--positives ~ div.review.-feature__items |pros|\n",
    "|list of product disadvantages |div.review-feature__title--negatives ~ div.review.-feature__items |cons|\n",
    "|how many users think that opinion was helpful | button.vote-yes > span |helpful|\n",
    "|how many users think that opinion was unhelpful |button.vote-no > span | unhelpful|\n",
    "|publishing date | span.user-post__published > time:nth-child(1)[\"datetime\"]  |publish_date|\n",
    "|purchase date | span.user-post__published > time:nth-child(2)[\"datetime\"] |purchase_date|\n"
   ]
  },
  {
   "attachments": {},
   "cell_type": "markdown",
   "metadata": {},
   "source": [
    "# imports"
   ]
  },
  {
   "cell_type": "code",
   "execution_count": 72,
   "metadata": {},
   "outputs": [],
   "source": [
    "import os\n",
    "import json\n",
    "import requests\n",
    "from bs4 import BeautifulSoup\n",
    "from deep_translator import GoogleTranslator"
   ]
  },
  {
   "cell_type": "markdown",
   "metadata": {},
   "source": [
    "## Definition of extracting content function\n"
   ]
  },
  {
   "cell_type": "code",
   "execution_count": 73,
   "metadata": {},
   "outputs": [],
   "source": [
    "def extract_content(ancestor,selector,attribute=None,return_list=False):\n",
    "            if selector:\n",
    "                if return_list:\n",
    "                    if attribute:\n",
    "                        return [tag[attribute].strip() for tag in ancestor.select(selector)]\n",
    "                    return [tag.text.strip() for tag in ancestor.select(selector)]\n",
    "                if attribute:\n",
    "                    try:\n",
    "                        return ancestor.select_one(selector)[attribute].strip()\n",
    "                    except TypeError:\n",
    "                        return None\n",
    "                try:\n",
    "                    return ancestor.select_one(selector).text.strip()\n",
    "                except AttributeError:\n",
    "                    return None\n",
    "            if attribute:\n",
    "                  return ancestor[attribute]\n",
    "            return ancestor[attribute]\n"
   ]
  },
  {
   "attachments": {},
   "cell_type": "markdown",
   "metadata": {},
   "source": [
    "## Opinion Structure"
   ]
  },
  {
   "cell_type": "code",
   "execution_count": 74,
   "metadata": {},
   "outputs": [],
   "source": [
    "selectors={\n",
    "\"opinion_id\":(None,'data-entry-id'),\n",
    "\"author\":(\"span.user-post__author-name\",),\n",
    "\"authors_recommendation\":(\"span.user-post__author-recomendation > em\",),\n",
    "\"stars\" :(\"span.user-post__score-count\",),\n",
    "\"content\" :(\"div.user-post__text\",),\n",
    "\"pros\" :(\"div.review-feature__title--positives ~ div.review-feature__item\",None,True),\n",
    "\"cons\" :(\"div.review-feature__title--negatives ~ div.review-feature__item\",None,True),\n",
    "\"helpful\" :(\"button.vote-yes > span\",),\n",
    "\"unhelpful\" :(\"button.vote-no > span\",),\n",
    "\"publish_date\": (\"span.user-post__published > time:nth-child(1)\",\"datetime\"),\n",
    "\"purchase_date\":(\"span.user-post__published > time:nth-child(2)\",\"datetime\"),\n",
    "}"
   ]
  },
  {
   "cell_type": "markdown",
   "metadata": {},
   "source": [
    "## Transformation function\n"
   ]
  },
  {
   "cell_type": "code",
   "execution_count": 75,
   "metadata": {},
   "outputs": [],
   "source": [
    "def score(score:str) -> float:\n",
    "    s = score.split(\"/\")\n",
    "    return float(s[0].replace(\",\",\".\"))/float(s[1])\n",
    "\n",
    "def translate(text, lang_from = \"pl\", lang_to =\"en\"):\n",
    "    if isinstance(text,list):\n",
    "        return [GoogleTranslator(source=lang_from, target=lang_to).translate(t) for t in text]\n",
    "    return GoogleTranslator(source=lang_from, target=lang_to).translate(text)\n"
   ]
  },
  {
   "cell_type": "markdown",
   "metadata": {},
   "source": [
    "## Dictionary with transformations"
   ]
  },
  {
   "cell_type": "code",
   "execution_count": 76,
   "metadata": {},
   "outputs": [],
   "source": [
    "transformations = {\n",
    "    \"authors_recommendation\": lambda r: True if r == \"Polecam\" else False if r == \"nie polecam\" else None,\n",
    "    \"stars\": score,\n",
    "    \"helpful\": int,\n",
    "    \"unhelpful\": int,\n",
    "    \"content\": translate,\n",
    "    \"pros\":translate,\n",
    "    \"cons\": translate,\n",
    "}"
   ]
  },
  {
   "attachments": {},
   "cell_type": "markdown",
   "metadata": {},
   "source": [
    "# URl addres for the first page with opinions about product"
   ]
  },
  {
   "cell_type": "code",
   "execution_count": 77,
   "metadata": {},
   "outputs": [
    {
     "data": {
      "text/plain": [
       "200"
      ]
     },
     "execution_count": 77,
     "metadata": {},
     "output_type": "execute_result"
    }
   ],
   "source": [
    "product_id=input(\"Enter product code\")\n",
    "url=f\"https://www.ceneo.pl/{product_id}#tab-reviews\"\n",
    "response = requests.get(url)\n",
    "response.status_code\n"
   ]
  },
  {
   "attachments": {},
   "cell_type": "markdown",
   "metadata": {},
   "source": [
    "## Convert plain text HTML code into DOM structure"
   ]
  },
  {
   "cell_type": "code",
   "execution_count": 78,
   "metadata": {},
   "outputs": [],
   "source": [
    "page_dom = BeautifulSoup(response.text,\"html.parser\")\n",
    "opinions =page_dom.select(\"div.js_product-review\")\n",
    "all_opinions = []\n"
   ]
  },
  {
   "attachments": {},
   "cell_type": "markdown",
   "metadata": {},
   "source": [
    "## Extract all components of single opinion"
   ]
  },
  {
   "cell_type": "markdown",
   "metadata": {},
   "source": [
    "## Exctract all opinions\n"
   ]
  },
  {
   "cell_type": "code",
   "execution_count": 79,
   "metadata": {},
   "outputs": [],
   "source": [
    "all_opinions = []\n",
    "while(url):\n",
    "    response = requests.get(url)\n",
    "    response.status_code\n",
    "    page_dom = BeautifulSoup(response.text,\"html.parser\")\n",
    "    opinions =page_dom.select(\"div.js_product-review\")\n",
    "\n",
    "    for opinion in opinions:\n",
    "        single_opinion={\n",
    "            key: extract_content(opinion, *value)\n",
    "                for key,value in selectors.items()\n",
    "            \n",
    "        }\n",
    "        for key,value in transformations.items():\n",
    "            single_opinion[key] = value(single_opinion[key])\n",
    "        all_opinions.append(single_opinion)\n",
    "    try:\n",
    "        url = \"https://www.ceneo.pl\"+extract_content(page_dom, \"a.pagination__next\", \"href\")\n",
    "    except TypeError:\n",
    "        url = None\n",
    "\n",
    "    "
   ]
  },
  {
   "cell_type": "code",
   "execution_count": 80,
   "metadata": {},
   "outputs": [],
   "source": [
    "if not os.path.exists(\"opinions\"):\n",
    "    os.mkdir(\"opinions\")\n",
    "\n",
    "with open(f\"opinions/{product_id}.json\",\"w\",encoding=\"UTF-8\") as jf:\n",
    "    json.dump(all_opinions, jf, indent=4, ensure_ascii = False)"
   ]
  },
  {
   "cell_type": "code",
   "execution_count": 81,
   "metadata": {},
   "outputs": [
    {
     "data": {
      "text/plain": [
       "0"
      ]
     },
     "execution_count": 81,
     "metadata": {},
     "output_type": "execute_result"
    }
   ],
   "source": [
    "len(all_opinions)"
   ]
  }
 ],
 "metadata": {
  "kernelspec": {
   "display_name": ".venv",
   "language": "python",
   "name": "python3"
  },
  "language_info": {
   "codemirror_mode": {
    "name": "ipython",
    "version": 3
   },
   "file_extension": ".py",
   "mimetype": "text/x-python",
   "name": "python",
   "nbconvert_exporter": "python",
   "pygments_lexer": "ipython3",
   "version": "3.11.4"
  },
  "orig_nbformat": 4
 },
 "nbformat": 4,
 "nbformat_minor": 2
}
